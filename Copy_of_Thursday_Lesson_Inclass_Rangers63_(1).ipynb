{
 "cells": [
  {
   "cell_type": "markdown",
   "metadata": {
    "id": "5mFyMNuGUUGt"
   },
   "source": [
    "# Object-Oriented-Programming (OOP)"
   ]
  },
  {
   "cell_type": "markdown",
   "metadata": {
    "id": "YbvbysR2UUGw"
   },
   "source": [
    "## Tasks Today:\n",
    "\n",
    "   \n",
    "\n",
    "1) <b>Creating a Class (Initializing/Declaring)</b> <br>\n",
    "2) <b>Using a Class (Instantiating)</b> <br>\n",
    " &nbsp;&nbsp;&nbsp;&nbsp; a) Creating One Instance <br>\n",
    " &nbsp;&nbsp;&nbsp;&nbsp; b) Creating Multiple Instances <br>\n",
    " &nbsp;&nbsp;&nbsp;&nbsp; c) In-Class Exercise #1 - Create a Class 'Car' and instantiate three different makes of cars <br>\n",
    "3) <b>The \\__init\\__() Method</b> <br>\n",
    " &nbsp;&nbsp;&nbsp;&nbsp; a) The 'self' Attribute <br>\n",
    "4) <b>Class Attributes</b> <br>\n",
    " &nbsp;&nbsp;&nbsp;&nbsp; a) Initializing Attributes <br>\n",
    " &nbsp;&nbsp;&nbsp;&nbsp; b) Setting an Attribute Outside of the \\__init\\__() Method <br>\n",
    " &nbsp;&nbsp;&nbsp;&nbsp; c) Setting Defaults for Attributes <br>\n",
    " &nbsp;&nbsp;&nbsp;&nbsp; d) Accessing Class Attributes <br>\n",
    " &nbsp;&nbsp;&nbsp;&nbsp; e) Changing Class Attributes <br>\n",
    " &nbsp;&nbsp;&nbsp;&nbsp; f) In-Class Exercise #2 - Add a color and wheels attribute to your 'Car' class <br>\n",
    "5) <b>Class Methods</b> <br>\n",
    " &nbsp;&nbsp;&nbsp;&nbsp; a) Creating <br>\n",
    " &nbsp;&nbsp;&nbsp;&nbsp; b) Calling <br>\n",
    " &nbsp;&nbsp;&nbsp;&nbsp; c) Modifying an Attribute's Value Through a Method <br>\n",
    " &nbsp;&nbsp;&nbsp;&nbsp; d) Incrementing an Attribute's Value Through a Method <br>\n",
    " &nbsp;&nbsp;&nbsp;&nbsp; e) In-Class Exercise #3 - Add a method that prints the cars color and wheel number, then call them <br>\n",
    "6) <b>Inheritance</b> <br>\n",
    " &nbsp;&nbsp;&nbsp;&nbsp; a) Syntax for Inheriting from a Parent Class <br>\n",
    " &nbsp;&nbsp;&nbsp;&nbsp; b) The \\__init\\__() Method for a Child Class (super()) <br>\n",
    " &nbsp;&nbsp;&nbsp;&nbsp; c) Defining Attributes and Methods for the Child Class <br>\n",
    " &nbsp;&nbsp;&nbsp;&nbsp; d) Method Overriding <br>\n",
    " &nbsp;&nbsp;&nbsp;&nbsp; e) In-Class Exercise #4 - Create a class 'Ford' that inherits from 'Car' class and initialize it as a Blue Ford Explorer with 4 wheels using the super() method <br>\n",
    "7) <b>Classes as Attributes</b> <br>\n",
    "8) <b>Exercises</b> <br>\n",
    " &nbsp;&nbsp;&nbsp;&nbsp; a) Exercise #1 - Turn the shopping cart program from yesterday into an object-oriented program <br>"
   ]
  },
  {
   "cell_type": "markdown",
   "metadata": {
    "id": "G2ftFwuqUUGx"
   },
   "source": [
    "## Creating a Class (Initializing/Declaring)\n",
    "<p>When creating a class, function, or even a variable you are initializing that object. Initializing and Declaring occur at the same time in Python, whereas in lower level languages you have to declare an object before initializing it. This is the first step in the process of using a class.</p>"
   ]
  },
  {
   "cell_type": "code",
   "execution_count": null,
   "metadata": {
    "id": "8NzJkIvZUUGx"
   },
   "outputs": [],
   "source": [
    "class Car():\n",
    "    wheels = 4\n",
    "    color = 'blue'"
   ]
  },
  {
   "cell_type": "markdown",
   "metadata": {
    "id": "RB8gmKqJUUGz"
   },
   "source": [
    "## Using a Class (Instantiating)\n",
    "<p>The process of creating a class is called <i>Instantiating</i>. Each time you create a variable of that type of class, it is referred to as an <i>Instance</i> of that class. This is the second step in the process of using a class.</p>"
   ]
  },
  {
   "cell_type": "markdown",
   "metadata": {
    "id": "_Gz_FAcGUUGz"
   },
   "source": [
    "##### Creating One Instance"
   ]
  },
  {
   "cell_type": "code",
   "execution_count": null,
   "metadata": {
    "colab": {
     "base_uri": "https://localhost:8080/"
    },
    "id": "C7zQyi-pUUGz",
    "outputId": "8ded9081-bfba-4e2d-f527-acf6c6fbfd7c"
   },
   "outputs": [
    {
     "name": "stdout",
     "output_type": "stream",
     "text": [
      "4\n"
     ]
    }
   ],
   "source": [
    "ford = Car()\n",
    "print(ford.wheels)"
   ]
  },
  {
   "cell_type": "markdown",
   "metadata": {
    "id": "eNmQxJh3UUG0"
   },
   "source": [
    "##### Creating Multiple Instances"
   ]
  },
  {
   "cell_type": "code",
   "execution_count": null,
   "metadata": {
    "colab": {
     "base_uri": "https://localhost:8080/"
    },
    "id": "lZqZXYK1UUG0",
    "outputId": "bf627896-d8f2-4d9b-c34a-d402ed2028de"
   },
   "outputs": [
    {
     "name": "stdout",
     "output_type": "stream",
     "text": [
      "<class 'str'>\n"
     ]
    }
   ],
   "source": [
    "chevy = Car()\n",
    "honda = Car()\n",
    "porsche = Car()\n",
    "\n",
    "print(type(porsche.color))\n"
   ]
  },
  {
   "cell_type": "markdown",
   "metadata": {
    "id": "jfd6HTn4UUG0"
   },
   "source": [
    "##### In-Class Exercise #1 - Create a Class 'Car' and Instantiate three different makes of cars"
   ]
  },
  {
   "cell_type": "code",
   "execution_count": null,
   "metadata": {
    "colab": {
     "base_uri": "https://localhost:8080/"
    },
    "id": "SGfx9XAyUUG0",
    "outputId": "d6e19416-7f33-489d-ab7d-ca09d95e59c3"
   },
   "outputs": [
    {
     "name": "stdout",
     "output_type": "stream",
     "text": [
      "4\n",
      "4\n",
      "1\n"
     ]
    }
   ],
   "source": [
    "class Car2():\n",
    "  wheels = 4\n",
    "  doors = 4\n",
    "  windows = 4\n",
    "  steeringWheel = 1\n",
    "\n",
    "kia = Car2()\n",
    "chevy = Car2()\n",
    "ford = Car2()\n",
    "\n",
    "print(ford.doors)\n",
    "print(chevy.wheels)\n",
    "print(kia.steeringWheel)"
   ]
  },
  {
   "cell_type": "markdown",
   "metadata": {
    "id": "74hA-Ox5UUG0"
   },
   "source": [
    "## The \\__init\\__() Method <br>\n",
    "<p>This method is used in almost every created class, and called only once upon the creation of the class instance. This method will initialize all variables needed for the object.</p>"
   ]
  },
  {
   "cell_type": "code",
   "execution_count": null,
   "metadata": {
    "colab": {
     "base_uri": "https://localhost:8080/"
    },
    "id": "g6GjgMxqUUG1",
    "outputId": "b55e21a9-b38c-409c-d144-b63b18ca6c2d"
   },
   "outputs": [
    {
     "name": "stdout",
     "output_type": "stream",
     "text": [
      "6\n",
      "red\n"
     ]
    }
   ],
   "source": [
    "class Car2():\n",
    "  engine = '4.7L'\n",
    "\n",
    "  def __init__(self, wheels, color):\n",
    "    self.wheels = wheels\n",
    "    self.color = color\n",
    "ford = Car2(4, 'red')\n",
    "chevy = Car2(6, 'black')\n",
    "\n",
    "print(chevy.wheels)\n",
    "print(ford.color)\n"
   ]
  },
  {
   "cell_type": "markdown",
   "metadata": {
    "id": "k2Nq5DLlUUG1"
   },
   "source": [
    "##### The 'self' Attribute <br>\n",
    "<p>This attribute is required to keep track of specific instance's attributes. Without the self attribute, the program would not know how to reference or keep track of an instance's attributes.</p>"
   ]
  },
  {
   "cell_type": "code",
   "execution_count": null,
   "metadata": {
    "id": "ao7c4s-8UUG1"
   },
   "outputs": [],
   "source": [
    "# see above"
   ]
  },
  {
   "cell_type": "markdown",
   "metadata": {
    "id": "qlCH_RAAUUG1"
   },
   "source": [
    "## Class Attributes <br>\n",
    "<p>While variables are inside of a class, they are referred to as attributes and not variables. When someone says 'attribute' you know they're speaking about a class. Attributes can be initialized through the init method, or outside of it.</p>"
   ]
  },
  {
   "cell_type": "markdown",
   "metadata": {
    "id": "YSsR78c1UUG1"
   },
   "source": [
    "##### Initializing Attributes"
   ]
  },
  {
   "cell_type": "code",
   "execution_count": null,
   "metadata": {
    "id": "Q8Wflg3gUUG1"
   },
   "outputs": [],
   "source": [
    "# see above\n",
    "\n",
    "class Toy():\n",
    "  kind = 'car'\n",
    "  def __init__ (self, rooftop, horn, wheels = 4):\n",
    "    self.rooftop = rooftop\n",
    "    self.horn = horn\n",
    "    self.wheels = wheels\n",
    "tonka_truck = Toy(1,1)\n",
    "hotwheels_car = Toy (2,3,8)\n",
    "\n",
    "\n"
   ]
  },
  {
   "cell_type": "markdown",
   "metadata": {
    "id": "QVao4jMYUUG2"
   },
   "source": [
    "##### Accessing Class Attributes"
   ]
  },
  {
   "cell_type": "code",
   "execution_count": null,
   "metadata": {
    "colab": {
     "base_uri": "https://localhost:8080/"
    },
    "id": "q5K-kN_SUUG2",
    "outputId": "1c05bc29-daa5-4975-d370-7f69db0f3b3f",
    "scrolled": true
   },
   "outputs": [
    {
     "name": "stdout",
     "output_type": "stream",
     "text": [
      "1\n",
      "8\n"
     ]
    }
   ],
   "source": [
    "# See Above\n",
    "print(tonka_truck.horn)\n",
    "print(hotwheels_car.wheels)"
   ]
  },
  {
   "cell_type": "markdown",
   "metadata": {
    "id": "XFDQJEuOUUG2"
   },
   "source": [
    "##### Setting Defaults for Attributes"
   ]
  },
  {
   "cell_type": "code",
   "execution_count": null,
   "metadata": {
    "colab": {
     "base_uri": "https://localhost:8080/"
    },
    "id": "tGVhoKFkUUG2",
    "outputId": "6e03cb5e-bd9d-4910-a67e-2f01127aadad"
   },
   "outputs": [
    {
     "name": "stdout",
     "output_type": "stream",
     "text": [
      "Blue\n",
      "4\n",
      "<__main__.Car2 object at 0x7b096e713010>\n"
     ]
    }
   ],
   "source": [
    "class Car2():\n",
    "  engine = '4.7L'\n",
    "\n",
    "  def __init__(self, wheels,):\n",
    "    self.wheels = wheels\n",
    "    self.color =  'Blue' #cannot overwrite\n",
    "honda = Car2(4)\n",
    "print(honda.color)\n",
    "print(honda.wheels)\n",
    "honda.engine = '5.4L'\n",
    "\n"
   ]
  },
  {
   "cell_type": "markdown",
   "metadata": {
    "id": "HVifCvNXUUG2"
   },
   "source": [
    "##### Changing Class Attributes <br>\n",
    "<p>Keep in mind there are global class attributes and then there are attributes only available to each class instance which won't effect other classes.</p>"
   ]
  },
  {
   "cell_type": "code",
   "execution_count": null,
   "metadata": {
    "id": "7Isz-uh4UUG2"
   },
   "outputs": [],
   "source": []
  },
  {
   "cell_type": "code",
   "execution_count": null,
   "metadata": {
    "id": "QET1HwOVUUG2"
   },
   "outputs": [],
   "source": []
  },
  {
   "cell_type": "markdown",
   "metadata": {
    "id": "mq0_R_wJUUG2"
   },
   "source": [
    "##### In-Class Exercise #2 - Add a doors and seats attribute to your 'Car' class then print out two different instances with different doors and seats"
   ]
  },
  {
   "cell_type": "code",
   "execution_count": null,
   "metadata": {
    "colab": {
     "base_uri": "https://localhost:8080/"
    },
    "id": "OabzXjV1UUG2",
    "outputId": "97192e78-2997-4b00-fa84-aa7cf01aae45"
   },
   "outputs": [
    {
     "name": "stdout",
     "output_type": "stream",
     "text": [
      "4\n",
      "2\n",
      "5\n",
      "2\n"
     ]
    }
   ],
   "source": [
    "class Car2():\n",
    "  def __init__ (self, wheels, color, doors, seats):\n",
    "    self.wheels = wheels\n",
    "    self.color = color\n",
    "    self.doors = doors\n",
    "    self.seats = seats\n",
    "\n",
    "honda = Car2( 4, 'Blue' , 4, 5)\n",
    "kia = Car2(4,'Red', 2, 2)\n",
    "print(honda.doors)\n",
    "print(kia.seats)\n",
    "print(honda.seats)\n",
    "print(kia.doors)"
   ]
  },
  {
   "cell_type": "markdown",
   "metadata": {
    "id": "jHBNaBdsUUG3"
   },
   "source": [
    "## Class Methods <br>\n",
    "<p>While inside of a class, functions are referred to as 'methods'. If you hear someone mention methods, they're speaking about classes. Methods are essentially functions, but only callable on the instances of a class.</p>"
   ]
  },
  {
   "cell_type": "markdown",
   "metadata": {
    "id": "UnXDmG7xUUG3"
   },
   "source": [
    "##### Creating"
   ]
  },
  {
   "cell_type": "markdown",
   "metadata": {
    "id": "mMRu995Qlmu9"
   },
   "source": []
  },
  {
   "cell_type": "code",
   "execution_count": null,
   "metadata": {
    "id": "rgH5EzktUUG3"
   },
   "outputs": [],
   "source": [
    "class ShoppingBag ():\n",
    "  ''' the shopping bag class will have handles, capacity, and items to place inside.\n",
    "      Attritbutes for the class:\n",
    "      -Handles: expected to be an integer\n",
    "      - items: expected to be a list\n",
    "      -capacity: expected to be an integer\n",
    "\n",
    "  '''\n",
    "\n",
    "  def __init__ (self, handles, items = [], capacity = 10):\n",
    "    self.handles = handles\n",
    "    self.items = items\n",
    "    self.capacity = capacity\n",
    "\n",
    "  def showShoppingBag(self):\n",
    "    if len(self.items) == 0:\n",
    "      print(\"You have no items in your bag.\")\n",
    "    else:\n",
    "      print(\"You have items in your bag!!!\")\n",
    "      for item in self.items:\n",
    "        print(item)\n",
    "\n",
    "  def showCapacity(self):\n",
    "    print(f\"Your remaining capacity is: {self.capacity - len(self.items)}\")\n",
    "\n",
    "  def addToShoppingBag (self): #if capacity is full, reject new items\n",
    "    if len(self.items) == self.capacity:\n",
    "      print('You have no room!')\n",
    "    else:\n",
    "      product = input(\"what would you like to add?  \")\n",
    "      self.items.append(product)\n",
    "\n",
    "  def showHandles(self):\n",
    "    print(f\"You have {self.handles} handles on your bag\")\n"
   ]
  },
  {
   "cell_type": "markdown",
   "metadata": {
    "id": "Ik36eIO5UUG3"
   },
   "source": [
    "##### Calling"
   ]
  },
  {
   "cell_type": "code",
   "execution_count": null,
   "metadata": {
    "colab": {
     "base_uri": "https://localhost:8080/"
    },
    "id": "XaCZWrZ5UUG3",
    "outputId": "3116a36b-b26e-452c-db76-7b601bc0d3d0"
   },
   "outputs": [
    {
     "name": "stdout",
     "output_type": "stream",
     "text": [
      "what would you like to do? \n",
      "\n",
      " You may: \n",
      "- Add\n",
      "-Show\n",
      " -Quit\n",
      "add\n",
      "what would you like to add?  grapes\n",
      "what would you like to do? \n",
      "\n",
      " You may: \n",
      "- Add\n",
      "-Show\n",
      " -Quit\n",
      "show\n",
      "What would you like see: \n",
      "- Capacity\n",
      "- Handles \n",
      " - shopping bagshopping bag\n",
      "You have items in your bag!!!\n",
      "grapes\n",
      "grapes\n",
      "what would you like to do? \n",
      "\n",
      " You may: \n",
      "- Add\n",
      "-Show\n",
      " -Quit\n",
      "show\n",
      "What would you like see: \n",
      "- Capacity\n",
      "- Handles \n",
      " - shopping bagcapacity\n",
      "Your remaining capacity is: 8\n",
      "what would you like to do? \n",
      "\n",
      " You may: \n",
      "- Add\n",
      "-Show\n",
      " -Quit\n",
      "quit\n",
      "You have items in your bag!!!\n",
      "grapes\n",
      "grapes\n",
      "Thanks for shopping\n"
     ]
    }
   ],
   "source": [
    "# See Above\n",
    "wholeFoodsBag = ShoppingBag(2)\n",
    "\n",
    "def run():\n",
    "  while True:\n",
    "    response = input(\"what would you like to do? \\n\\n You may: \\n- Add\\n-Show\\n -Quit\\n\")\n",
    "\n",
    "    if response.lower()== 'quit':\n",
    "      wholeFoodsBag.showShoppingBag()\n",
    "      print(\"Thanks for shopping\")\n",
    "      break\n",
    "\n",
    "    elif response.lower() == 'add':\n",
    "      wholeFoodsBag.addToShoppingBag()\n",
    "\n",
    "    elif response.lower() == 'show' :\n",
    "      showChoice = input(\"What would you like see: \\n- Capacity\\n- Handles \\n - shopping bag\")\n",
    "      if showChoice.lower() == 'capacity' :\n",
    "        wholeFoodsBag.showCapacity()\n",
    "      elif showChoice.lower() == 'handles' :\n",
    "        wholeFoodsBag.showHandles()\n",
    "      else:\n",
    "        wholeFoodsBag.showShoppingBag()\n",
    "    else:\n",
    "      print(\"Invalid response. Please enter add,show, or quit:  \")\n",
    "\n",
    "\n",
    "\n",
    "run()"
   ]
  },
  {
   "cell_type": "markdown",
   "metadata": {
    "id": "HuWTkVS6UUG3"
   },
   "source": [
    "##### Modifying an Attribute's Value Through a Method"
   ]
  },
  {
   "cell_type": "code",
   "execution_count": null,
   "metadata": {
    "id": "UX5tGrunUUG3"
   },
   "outputs": [],
   "source": []
  },
  {
   "cell_type": "markdown",
   "metadata": {
    "id": "ceGYsS1TUUG3"
   },
   "source": [
    "##### Incrementing an Attribute's Value Through a Method"
   ]
  },
  {
   "cell_type": "code",
   "execution_count": null,
   "metadata": {
    "id": "x42nbIVfUUG4"
   },
   "outputs": [],
   "source": []
  },
  {
   "cell_type": "markdown",
   "metadata": {
    "id": "_rWf0I86UUG4"
   },
   "source": [
    "##### In-Class Exercise #3 - Add a method that takes in three parameters of year, doors and seats and prints out a formatted print statement with make, model, year, seats, and doors"
   ]
  },
  {
   "cell_type": "code",
   "execution_count": null,
   "metadata": {
    "colab": {
     "base_uri": "https://localhost:8080/"
    },
    "id": "L1-tXxaFUUG4",
    "outputId": "bd59e299-3896-4576-9cb9-c071bee48b17"
   },
   "outputs": [
    {
     "name": "stdout",
     "output_type": "stream",
     "text": [
      "This car is from 2019 and is a Ford Explorer and has 4 doors and 5 seats\n"
     ]
    }
   ],
   "source": [
    "# Create class with 2 paramters inside of the __init__ which are make and model\n",
    "\n",
    "# Inside of the Car class create a method that has 4 parameter in total (self,year,door,seats)\n",
    "\n",
    "# Output: This car is from 2019 and is a Ford Expolorer and has 4 doors and 5 seats\n",
    "\n",
    "class Car ():\n",
    "    def __init__(self, make, model):\n",
    "        self.make = make\n",
    "        self.model = model\n",
    "\n",
    "    def display_car_info(self, year, doors, seats):\n",
    "        print(f\"This car is from {year} and is a {self.make} {self.model} and has {doors} doors and {seats} seats\")\n",
    "\n",
    "\n",
    "my_car = Car(\"Ford\", \"Explorer\")\n",
    "my_car.display_car_info(2019, 4, 5)\n",
    "\n"
   ]
  },
  {
   "cell_type": "markdown",
   "metadata": {
    "id": "iCIA15IFUUG4"
   },
   "source": [
    "## Inheritance <br>\n",
    "<p>You can create a child-parent relationship between two classes by using inheritance. What this allows you to do is have overriding methods, but also inherit traits from the parent class. Think of it as an actual parent and child, the child will inherit the parent's genes, as will the classes in OOP</p>"
   ]
  },
  {
   "cell_type": "markdown",
   "metadata": {
    "id": "_BFH2-KfUUG9"
   },
   "source": [
    "##### Syntax for Inheriting from a Parent Class"
   ]
  },
  {
   "cell_type": "code",
   "execution_count": null,
   "metadata": {
    "id": "8YwcmvVWUUG9"
   },
   "outputs": [],
   "source": []
  },
  {
   "cell_type": "markdown",
   "metadata": {
    "id": "pBsCJNFGUUG9"
   },
   "source": [
    "##### The \\__init\\__() Method for a Child Class - super()"
   ]
  },
  {
   "cell_type": "code",
   "execution_count": null,
   "metadata": {
    "id": "e7Le9kfNUUG9",
    "scrolled": true
   },
   "outputs": [],
   "source": []
  },
  {
   "cell_type": "markdown",
   "metadata": {
    "id": "m2WxtYtmUUG9"
   },
   "source": [
    "##### Defining Attributes and Methods for the Child Class"
   ]
  },
  {
   "cell_type": "code",
   "execution_count": null,
   "metadata": {
    "id": "u23RPup3UUG9"
   },
   "outputs": [],
   "source": [
    "# See Above"
   ]
  },
  {
   "cell_type": "markdown",
   "metadata": {
    "id": "CtAhJmLnUUG-"
   },
   "source": [
    "##### Method Overriding"
   ]
  },
  {
   "cell_type": "code",
   "execution_count": null,
   "metadata": {
    "id": "SnAbU9qjUUG-"
   },
   "outputs": [],
   "source": [
    "# See Above"
   ]
  },
  {
   "cell_type": "markdown",
   "metadata": {
    "id": "M3bHw02HUUG-"
   },
   "source": [
    "## Classes as Attributes <br>\n",
    "<p>Classes can also be used as attributes within another class. This is useful in situations where you need to keep variables locally stored, instead of globally stored.</p>"
   ]
  },
  {
   "cell_type": "code",
   "execution_count": null,
   "metadata": {
    "id": "6E09kUx0UUG-"
   },
   "outputs": [],
   "source": []
  },
  {
   "cell_type": "markdown",
   "metadata": {
    "id": "9w-ktOyzUUG-"
   },
   "source": [
    "# Exercises"
   ]
  },
  {
   "cell_type": "markdown",
   "metadata": {
    "id": "XfSZtwddUUG-"
   },
   "source": [
    "### Exercise 1 - Turn the shopping cart program from yesterday into an object-oriented program\n",
    "\n",
    "The comments in the cell below are there as a guide for thinking about the problem. However, if you feel a different way is best for you and your own thought process, please do what feels best for you by all means."
   ]
  },
  {
   "cell_type": "code",
   "execution_count": 4,
   "metadata": {
    "id": "tQPs0CVwUUG-"
   },
   "outputs": [],
   "source": [
    "# Create a class called cart that retains items and has methods to add, remove, and show\n",
    "\n",
    "class Cart():\n",
    "    def __init__(self, item):\n",
    "        self.items = []\n",
    "\n",
    "    def add_item(self, item):\n",
    "        self.items.append(item)\n",
    "\n",
    "    def remove_item(self, item):\n",
    "        if item in self.items:\n",
    "            self.items.remove(item)\n",
    "        else:\n",
    "            print(f\"{item} is not in the cart.\")\n",
    "\n",
    "    def show_items(self):\n",
    "        if self.items:\n",
    "            print(\"Items in the cart:\")\n",
    "            for item in self.items:\n",
    "                print(\"-\", item)\n",
    "        else:\n",
    "            print(\"The cart is empty.\")\n"
   ]
  },
  {
   "cell_type": "markdown",
   "metadata": {
    "id": "gKYz7NWhUUG-"
   },
   "source": [
    "### Exercise 2 - Write a Python class which has two methods get_String and print_String. get_String accept a string from the user and print_String print the string in upper case"
   ]
  },
  {
   "cell_type": "code",
   "execution_count": 10,
   "metadata": {
    "id": "TenSuXiGUUG_"
   },
   "outputs": [
    {
     "name": "stdout",
     "output_type": "stream",
     "text": [
      "Enter a string: word\n",
      "WORD\n"
     ]
    }
   ],
   "source": [
    "class String1():\n",
    "  '''This class will have 2 methods,\n",
    "    1). will take the input from a user\n",
    "    2). will return the string in upper case\n",
    "   '''\n",
    "  def __init__ (self,):\n",
    "    self.string = \" \"\n",
    "\n",
    "  def get_String(self):\n",
    "    self.input_string = input(\"Enter a string: \")\n",
    "\n",
    "  def print_String(self):\n",
    "      print(self.input_string.upper())\n",
    "        \n",
    "word = String1()\n",
    "word.get_String()\n",
    "word.print_String()"
   ]
  }
 ],
 "metadata": {
  "colab": {
   "provenance": []
  },
  "kernelspec": {
   "display_name": "Python 3 (ipykernel)",
   "language": "python",
   "name": "python3"
  },
  "language_info": {
   "codemirror_mode": {
    "name": "ipython",
    "version": 3
   },
   "file_extension": ".py",
   "mimetype": "text/x-python",
   "name": "python",
   "nbconvert_exporter": "python",
   "pygments_lexer": "ipython3",
   "version": "3.11.5"
  }
 },
 "nbformat": 4,
 "nbformat_minor": 1
}
